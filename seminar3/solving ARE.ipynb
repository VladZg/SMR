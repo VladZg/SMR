{
 "cells": [
  {
   "cell_type": "code",
   "execution_count": 5,
   "id": "8fd52751-3d4a-4404-b7e2-55f8b318a119",
   "metadata": {},
   "outputs": [
    {
     "name": "stdout",
     "output_type": "stream",
     "text": [
      "[[1.73205081 1.        ]\n",
      " [1.         1.73205081]]\n"
     ]
    },
    {
     "data": {
      "text/plain": [
       "True"
      ]
     },
     "execution_count": 5,
     "metadata": {},
     "output_type": "execute_result"
    }
   ],
   "source": [
    "# Solving ARE (Algebraic Riccati Equation) for block 1D\n",
    "\n",
    "import numpy as np\n",
    "from scipy import linalg\n",
    "\n",
    "A = np.array([[0, 1],\n",
    "              [0, 0]])\n",
    "\n",
    "B = np.array([[0],\n",
    "              [1]])\n",
    "\n",
    "Q = np.array([[1, 0],\n",
    "              [0, 1]])\n",
    "\n",
    "R = 1\n",
    "\n",
    "P = linalg.solve_continuous_are(A, B, Q, R)\n",
    "\n",
    "print(P)\n",
    "\n",
    "# проверка на совпадение в пределах погрешности\n",
    "np.allclose(A.T @ P + P @ A - P @ B @ B.T @ P, -Q)\n",
    "\n"
   ]
  },
  {
   "cell_type": "code",
   "execution_count": 8,
   "id": "aeaeb421-19f3-4f39-b26f-840ec120b11e",
   "metadata": {},
   "outputs": [
    {
     "name": "stdout",
     "output_type": "stream",
     "text": [
      "[[138.25  -0.5   -4.84  -9.62]\n",
      " [ -0.5   13.3    9.63   0.05]\n",
      " [ -4.84   9.63  70.56   0.42]\n",
      " [ -9.62   0.05   0.42   6.78]]\n"
     ]
    },
    {
     "data": {
      "text/plain": [
       "True"
      ]
     },
     "execution_count": 8,
     "metadata": {},
     "output_type": "execute_result"
    }
   ],
   "source": [
    "# Solving ARE (Algebraic Riccati Equation) for two pendulus\n",
    "\n",
    "import numpy as np\n",
    "from scipy import linalg\n",
    "\n",
    "m = 5.0\n",
    "l = 1.0\n",
    "k = 2.0\n",
    "g = 10.0\n",
    "\n",
    "A = np.array\\\n",
    "        ([[0,                          1, 0,                          0],\n",
    "          [-(m * g + k * l) / (m * l), 0, k / m,                      0],\n",
    "          [0,                          0, 0,                          1],\n",
    "          [k / m,                      0, -(m * g + k * l) / (m * l), 0]])\n",
    "\n",
    "B = np.array([[0],\n",
    "              [0],\n",
    "              [0],\n",
    "              [1 / (m * l)]])\n",
    "\n",
    "Q = np.eye(4)\n",
    "\n",
    "R = np.eye(1)\n",
    "\n",
    "P = linalg.solve_continuous_are(A, B, Q, R)\n",
    "\n",
    "#np.set_printoptions(precision=2)\n",
    "#print(x)\n",
    "\n",
    "print(np.array_str(x, precision=2, suppress_small=True))\n",
    "\n",
    "# проверка на совпадение в пределах погрешности\n",
    "np.allclose(A.T @ P + P @ A - P @ B @ B.T @ P, -Q)"
   ]
  },
  {
   "cell_type": "code",
   "execution_count": null,
   "id": "099819f8-2cac-4fb0-9c36-5564cdd1893d",
   "metadata": {},
   "outputs": [],
   "source": []
  }
 ],
 "metadata": {
  "kernelspec": {
   "display_name": "Python 3 (ipykernel)",
   "language": "python",
   "name": "python3"
  },
  "language_info": {
   "codemirror_mode": {
    "name": "ipython",
    "version": 3
   },
   "file_extension": ".py",
   "mimetype": "text/x-python",
   "name": "python",
   "nbconvert_exporter": "python",
   "pygments_lexer": "ipython3",
   "version": "3.10.12"
  }
 },
 "nbformat": 4,
 "nbformat_minor": 5
}
