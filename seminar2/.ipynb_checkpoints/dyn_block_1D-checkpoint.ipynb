{
 "cells": [
  {
   "cell_type": "code",
   "execution_count": 35,
   "id": "e0bdac90-dfea-4d9e-b81c-ebdcbce24d69",
   "metadata": {},
   "outputs": [
    {
     "ename": "NameError",
     "evalue": "name 'sqrt' is not defined",
     "output_type": "error",
     "traceback": [
      "\u001b[0;31m---------------------------------------------------------------------------\u001b[0m",
      "\u001b[0;31mNameError\u001b[0m                                 Traceback (most recent call last)",
      "Cell \u001b[0;32mIn[35], line 44\u001b[0m\n\u001b[1;32m     38\u001b[0m x \u001b[38;5;241m=\u001b[39m block\u001b[38;5;241m.\u001b[39mget_state()\n\u001b[1;32m     40\u001b[0m \u001b[38;5;66;03m# u = u(x)\u001b[39;00m\n\u001b[1;32m     41\u001b[0m \u001b[38;5;66;03m# control = 0\u001b[39;00m\n\u001b[1;32m     42\u001b[0m \u001b[38;5;66;03m# control = 10 * np.sin(i / 50.0)\u001b[39;00m\n\u001b[1;32m     43\u001b[0m \u001b[38;5;66;03m# control = (-1)*block.k*x[0,0]\u001b[39;00m\n\u001b[0;32m---> 44\u001b[0m control \u001b[38;5;241m=\u001b[39m (\u001b[38;5;241m-\u001b[39m\u001b[38;5;241m1\u001b[39m) \u001b[38;5;241m*\u001b[39m x[\u001b[38;5;241m0\u001b[39m,\u001b[38;5;241m0\u001b[39m] \u001b[38;5;241m-\u001b[39m \u001b[43msqrt\u001b[49m(\u001b[38;5;241m3.0\u001b[39m) \u001b[38;5;241m*\u001b[39m x[\u001b[38;5;241m1\u001b[39m,\u001b[38;5;241m0\u001b[39m]\n\u001b[1;32m     46\u001b[0m x_coord\u001b[38;5;241m.\u001b[39mappend(x[\u001b[38;5;241m0\u001b[39m, \u001b[38;5;241m0\u001b[39m])\n\u001b[1;32m     47\u001b[0m x_veloc\u001b[38;5;241m.\u001b[39mappend(x[\u001b[38;5;241m1\u001b[39m, \u001b[38;5;241m0\u001b[39m])\n",
      "\u001b[0;31mNameError\u001b[0m: name 'sqrt' is not defined"
     ]
    }
   ],
   "source": [
    "import numpy as np\n",
    "import cv2\n",
    "import matplotlib.pyplot as plt\n",
    "from math import sqrt\n",
    "\n",
    "class Dyn_block_1D:\n",
    "    def __init__(self, x0, v0, m, k, dt):\n",
    "        self.x  = np.array([[x0],[v0]])\n",
    "        self.m  = m\n",
    "        self.k = k\n",
    "        self.dt = dt\n",
    "        self.A  = np.array([[0, 1],\n",
    "                            [(-1.0)*self.k/self.m, 0]])\n",
    "        self.B  = np.array([[0], [1.0/self.m]])\n",
    "\n",
    "    # вычисление динамики системы по заданному управлению\n",
    "    # f(x,u) = A*x + B*u\n",
    "    def sys_dyn(self, u):\n",
    "        xdot = self.A @ self.x + self.B @ u\n",
    "        return xdot\n",
    "\n",
    "    # x_(k+1) = x_k + x_dot_k * dt\n",
    "    def integrate(self, xdot):\n",
    "        self.x += xdot * self.dt\n",
    "\n",
    "    def get_state(self):\n",
    "        return self.x\n",
    "\n",
    "block = Dyn_block_1D(1.0, 2.0, 1.0, 1.0, 0.01)\n",
    "\n",
    "num_episodes = 10000\n",
    "\n",
    "x_coord = []\n",
    "x_veloc = []\n",
    "u_traj  = []\n",
    "\n",
    "for i in range(num_episodes):\n",
    "    x = block.get_state()\n",
    "\n",
    "    # u = u(x)\n",
    "    # control = 0\n",
    "    # control = 10 * np.sin(i / 50.0)\n",
    "    # control = (-1)*block.k*x[0,0]\n",
    "    control = (-1) * x[0,0] - sqrt(3.0) * x[1,0]\n",
    "\n",
    "    x_coord.append(x[0, 0])\n",
    "    x_veloc.append(x[1, 0])\n",
    "    u_traj.append(control)\n",
    "    \n",
    "    x_dot = block.sys_dyn(np.array([[control]]))\n",
    "    \n",
    "    block.integrate(x_dot)\n",
    "\n",
    "plt.plot(x_coord)\n",
    "plt.show()\n",
    "plt.plot(x_veloc)\n",
    "plt.show()\n",
    "plt.plot(u_traj)\n",
    "plt.show()\n",
    "    \n",
    "    "
   ]
  },
  {
   "cell_type": "markdown",
   "id": "e0898262-cb28-4443-b148-9ca949e533ac",
   "metadata": {},
   "source": [
    "# "
   ]
  }
 ],
 "metadata": {
  "kernelspec": {
   "display_name": "Python 3 (ipykernel)",
   "language": "python",
   "name": "python3"
  },
  "language_info": {
   "codemirror_mode": {
    "name": "ipython",
    "version": 3
   },
   "file_extension": ".py",
   "mimetype": "text/x-python",
   "name": "python",
   "nbconvert_exporter": "python",
   "pygments_lexer": "ipython3",
   "version": "3.10.12"
  }
 },
 "nbformat": 4,
 "nbformat_minor": 5
}
